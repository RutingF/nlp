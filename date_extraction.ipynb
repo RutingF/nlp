{
 "cells": [
  {
   "attachments": {},
   "cell_type": "markdown",
   "metadata": {},
   "source": [
    "### Objective\n",
    "- To find and extract date from raw text when 'date' can be written in any of the formats below: \n",
    "    - 04/20/2009; 04/20/09; 4/20/09; 4/3/09\n",
    "    - Mar-20-2009; Mar 20, 2009; March 20, 2009;  Mar. 20, 2009; Mar 20 2009;\n",
    "    - 20 Mar 2009; 20 March 2009; 20 Mar. 2009; 20 March, 2009\n",
    "    - Mar 20th, 2009; Mar 21st, 2009; Mar 22nd, 2009\n",
    "    - Feb 2009; Sep 2009; Oct 2010\n",
    "    - 6/2008; 12/2009 \n",
    "    - 2009; 2010\n",
    "\n",
    "- Assign found date in a new column and convert to date type\n",
    "\n",
    "- DataType for demonstration: Pandas dataframe"
   ]
  },
  {
   "cell_type": "code",
   "execution_count": 1,
   "metadata": {},
   "outputs": [
    {
     "data": {
      "text/plain": [
       "0         03/25/93 Total time of visit (in minutes):\\n\n",
       "1                       6/18/85 Primary Care Doctor:\\n\n",
       "2    sshe plans to move as of 7/8/71 In-Home Servic...\n",
       "3                7 on 9/27/75 Audit C Score Current:\\n\n",
       "4    2/6/96 sleep studyPain Treatment Pain Level (N...\n",
       "5                    .Per 7/06/79 Movement D/O note:\\n\n",
       "6    4, 5/18/78 Patient's thoughts about current su...\n",
       "7    10/24/89 CPT Code: 90801 - Psychiatric Diagnos...\n",
       "8                         3/7/86 SOS-10 Total Score:\\n\n",
       "9             (4/10/71)Score-1Audit C Score Current:\\n\n",
       "dtype: object"
      ]
     },
     "execution_count": 1,
     "metadata": {},
     "output_type": "execute_result"
    }
   ],
   "source": [
    "import pandas as pd\n",
    "from datetime import datetime \n",
    "import re \n",
    "\n",
    "# Opening text file \n",
    "doc = []\n",
    "with open('raw_text_with_dates.txt') as file:\n",
    "    for line in file:\n",
    "        doc.append(line)\n",
    "\n",
    "df = pd.Series(doc)\n",
    "df.head(10)"
   ]
  },
  {
   "attachments": {},
   "cell_type": "markdown",
   "metadata": {},
   "source": [
    "### Functions "
   ]
  },
  {
   "cell_type": "code",
   "execution_count": 2,
   "metadata": {},
   "outputs": [],
   "source": [
    "# Convert various date string formats to date type\n",
    "def parse_date(text):\n",
    "    for fmt in ('%m/%d/%Y', '%m/%d/%y', '%m-%d-%y','%-m/%d/%y', '%b-%d-%Y', '%b %d %Y', '%b, %Y', '%B %d %Y', '%B, %Y', '%d %b %Y','%B %d, %Y', '%d %B %Y','%b. %d, %Y','%B. %d, %Y', '%b %Y','%b %d, %Y', '%B %Y', '%m/%Y', '%m/%y', '%Y', '%y'):\n",
    "        try:\n",
    "            return datetime.strptime(text, fmt)\n",
    "        except ValueError:\n",
    "            pass\n",
    "    return None # if no valid format is found \n",
    "\n",
    "def extract_date(df):\n",
    "    \n",
    "    # Define Regular Expression patterns for all possible date variants, order by highest possiblity of date match to lowest possibility of match\n",
    "    patterns = [r'(\\d{1,2}(?:st|nd|rd|th)? (?:Jan|Feb|Mar|Apr|May|Jun|Jul|Aug|Sep|Oct|Nov|Dec)[a-z]*[-,.]?\\s*\\d{2,4})',\n",
    "                r'((?:Jan|Feb|Mar|Apr|May|Jun|Jul|Aug|Sep|Oct|Nov|Dec)[a-z]*[-.]?\\s* *\\d{1,2}(?:st|nd|rd|th)?[-,.]?\\s*\\d{2,4})', \n",
    "                r'((?:Jan|Feb|Mar|Apr|May|Jun|Jul|Aug|Sep|Oct|Nov|Dec)[a-z]*[-.,]?\\s*\\d{4})',\n",
    "                r'(\\d{1,2}[\\/-]\\d{2}[\\/-](\\d{4}|\\d{2}))',\n",
    "                r'(\\d{1,2}\\b[/-]\\d{1,2}[/-]?\\b(\\d{4}|\\d{2})\\b)',\n",
    "                r'(\\d{1,2}\\b[/-]\\d{4}\\b)',\n",
    "                r'(\\d{4}\\b)'\n",
    "    ] \n",
    "\n",
    "    output = []\n",
    "    for text in df:\n",
    "        parsed_date = None\n",
    "        for pattern in patterns:\n",
    "            match = re.search(pattern, text)\n",
    "            if match:\n",
    "                parsed_date = parse_date(match.group(0))\n",
    "                if parsed_date is not None: # Check if data parsing is successful\n",
    "                    break \n",
    "        \n",
    "        output.append({'original_text': text, 'date': parsed_date})\n",
    "\n",
    "    return pd.DataFrame(output)\n"
   ]
  },
  {
   "cell_type": "code",
   "execution_count": 3,
   "metadata": {},
   "outputs": [
    {
     "data": {
      "text/html": [
       "<div>\n",
       "<style scoped>\n",
       "    .dataframe tbody tr th:only-of-type {\n",
       "        vertical-align: middle;\n",
       "    }\n",
       "\n",
       "    .dataframe tbody tr th {\n",
       "        vertical-align: top;\n",
       "    }\n",
       "\n",
       "    .dataframe thead th {\n",
       "        text-align: right;\n",
       "    }\n",
       "</style>\n",
       "<table border=\"1\" class=\"dataframe\">\n",
       "  <thead>\n",
       "    <tr style=\"text-align: right;\">\n",
       "      <th></th>\n",
       "      <th>original_text</th>\n",
       "      <th>date</th>\n",
       "    </tr>\n",
       "  </thead>\n",
       "  <tbody>\n",
       "    <tr>\n",
       "      <th>0</th>\n",
       "      <td>03/25/93 Total time of visit (in minutes):\\n</td>\n",
       "      <td>1993-03-25</td>\n",
       "    </tr>\n",
       "    <tr>\n",
       "      <th>1</th>\n",
       "      <td>6/18/85 Primary Care Doctor:\\n</td>\n",
       "      <td>1985-06-18</td>\n",
       "    </tr>\n",
       "    <tr>\n",
       "      <th>2</th>\n",
       "      <td>sshe plans to move as of 7/8/71 In-Home Servic...</td>\n",
       "      <td>1971-07-08</td>\n",
       "    </tr>\n",
       "    <tr>\n",
       "      <th>3</th>\n",
       "      <td>7 on 9/27/75 Audit C Score Current:\\n</td>\n",
       "      <td>1975-09-27</td>\n",
       "    </tr>\n",
       "    <tr>\n",
       "      <th>4</th>\n",
       "      <td>2/6/96 sleep studyPain Treatment Pain Level (N...</td>\n",
       "      <td>1996-02-06</td>\n",
       "    </tr>\n",
       "  </tbody>\n",
       "</table>\n",
       "</div>"
      ],
      "text/plain": [
       "                                       original_text       date\n",
       "0       03/25/93 Total time of visit (in minutes):\\n 1993-03-25\n",
       "1                     6/18/85 Primary Care Doctor:\\n 1985-06-18\n",
       "2  sshe plans to move as of 7/8/71 In-Home Servic... 1971-07-08\n",
       "3              7 on 9/27/75 Audit C Score Current:\\n 1975-09-27\n",
       "4  2/6/96 sleep studyPain Treatment Pain Level (N... 1996-02-06"
      ]
     },
     "execution_count": 3,
     "metadata": {},
     "output_type": "execute_result"
    }
   ],
   "source": [
    "result_df = extract_date(df)\n",
    "result_df.head()"
   ]
  }
 ],
 "metadata": {
  "kernelspec": {
   "display_name": "Python 3",
   "language": "python",
   "name": "python3"
  },
  "language_info": {
   "codemirror_mode": {
    "name": "ipython",
    "version": 3
   },
   "file_extension": ".py",
   "mimetype": "text/x-python",
   "name": "python",
   "nbconvert_exporter": "python",
   "pygments_lexer": "ipython3",
   "version": "3.10.2"
  },
  "orig_nbformat": 4
 },
 "nbformat": 4,
 "nbformat_minor": 2
}
