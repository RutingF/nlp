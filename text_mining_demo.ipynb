{
 "cells": [
  {
   "cell_type": "markdown",
   "metadata": {},
   "source": [
    "### *text_mining* is a Python package developed as part of this repository"
   ]
  },
  {
   "cell_type": "code",
   "execution_count": 2,
   "metadata": {},
   "outputs": [],
   "source": [
    "import pandas as pd\n",
    "from datetime import datetime \n",
    "import re \n",
    "from text_mining import textMining"
   ]
  },
  {
   "cell_type": "code",
   "execution_count": 14,
   "metadata": {},
   "outputs": [
    {
     "data": {
      "text/plain": [
       "0         03/25/93 Total time of visit (in minutes):\\n\n",
       "1                       6/18/85 Primary Care Doctor:\\n\n",
       "2    sshe plans to move as of 7/8/71 In-Home Servic...\n",
       "3                7 on 9/27/75 Audit C Score Current:\\n\n",
       "4    2/6/96 sleep studyPain Treatment Pain Level (N...\n",
       "5                    .Per 7/06/79 Movement D/O note:\\n\n",
       "6    4, 5/18/78 Patient's thoughts about current su...\n",
       "7    10/24/89 CPT Code: 90801 - Psychiatric Diagnos...\n",
       "8                         3/7/86 SOS-10 Total Score:\\n\n",
       "9             (4/10/71)Score-1Audit C Score Current:\\n\n",
       "dtype: object"
      ]
     },
     "execution_count": 14,
     "metadata": {},
     "output_type": "execute_result"
    }
   ],
   "source": [
    "# Opening text file \n",
    "doc = []\n",
    "with open('data/raw_text_with_dates.txt') as file:\n",
    "    for line in file:\n",
    "        doc.append(line)\n",
    "\n",
    "data = pd.Series(doc)\n",
    "data.head(10)"
   ]
  },
  {
   "cell_type": "markdown",
   "metadata": {},
   "source": [
    "### Usecase 1: Data Exploration \n",
    "- Calculate the average length of text data in a pandas DataFrame or Series"
   ]
  },
  {
   "cell_type": "code",
   "execution_count": 15,
   "metadata": {},
   "outputs": [
    {
     "name": "stdout",
     "output_type": "stream",
     "text": [
      "Average length of text per doc: 135.876\n"
     ]
    }
   ],
   "source": [
    "tm = textMining(data)\n",
    "avg_length_per_doc = tm.find_avg_length_of_text()"
   ]
  },
  {
   "attachments": {},
   "cell_type": "markdown",
   "metadata": {},
   "source": [
    "### Usecase 2: Extract Dates\n",
    "- To find and extract date from raw text when 'date' can be written in any of the formats below: \n",
    "    - 04/20/2009; 04/20/09; 4/20/09; 4/3/09\n",
    "    - Mar-20-2009; Mar 20, 2009; March 20, 2009;  Mar. 20, 2009; Mar 20 2009;\n",
    "    - 20 Mar 2009; 20 March 2009; 20 Mar. 2009; 20 March, 2009\n",
    "    - Mar 20th, 2009; Mar 21st, 2009; Mar 22nd, 2009\n",
    "    - Feb 2009; Sep 2009; Oct 2010\n",
    "    - 6/2008; 12/2009 \n",
    "    - 2009; 2010\n",
    "\n",
    "- Assign found date in a new column and convert to date type\n",
    "\n",
    "- DataType for demonstration: Pandas dataframe"
   ]
  },
  {
   "cell_type": "code",
   "execution_count": 16,
   "metadata": {},
   "outputs": [
    {
     "data": {
      "text/html": [
       "<div>\n",
       "<style scoped>\n",
       "    .dataframe tbody tr th:only-of-type {\n",
       "        vertical-align: middle;\n",
       "    }\n",
       "\n",
       "    .dataframe tbody tr th {\n",
       "        vertical-align: top;\n",
       "    }\n",
       "\n",
       "    .dataframe thead th {\n",
       "        text-align: right;\n",
       "    }\n",
       "</style>\n",
       "<table border=\"1\" class=\"dataframe\">\n",
       "  <thead>\n",
       "    <tr style=\"text-align: right;\">\n",
       "      <th></th>\n",
       "      <th>original_text</th>\n",
       "      <th>date</th>\n",
       "    </tr>\n",
       "  </thead>\n",
       "  <tbody>\n",
       "    <tr>\n",
       "      <th>0</th>\n",
       "      <td>03/25/93 Total time of visit (in minutes):\\n</td>\n",
       "      <td>1993-03-25</td>\n",
       "    </tr>\n",
       "    <tr>\n",
       "      <th>1</th>\n",
       "      <td>6/18/85 Primary Care Doctor:\\n</td>\n",
       "      <td>1985-06-18</td>\n",
       "    </tr>\n",
       "    <tr>\n",
       "      <th>2</th>\n",
       "      <td>sshe plans to move as of 7/8/71 In-Home Servic...</td>\n",
       "      <td>1971-07-08</td>\n",
       "    </tr>\n",
       "    <tr>\n",
       "      <th>3</th>\n",
       "      <td>7 on 9/27/75 Audit C Score Current:\\n</td>\n",
       "      <td>1975-09-27</td>\n",
       "    </tr>\n",
       "    <tr>\n",
       "      <th>4</th>\n",
       "      <td>2/6/96 sleep studyPain Treatment Pain Level (N...</td>\n",
       "      <td>1996-02-06</td>\n",
       "    </tr>\n",
       "  </tbody>\n",
       "</table>\n",
       "</div>"
      ],
      "text/plain": [
       "                                       original_text       date\n",
       "0       03/25/93 Total time of visit (in minutes):\\n 1993-03-25\n",
       "1                     6/18/85 Primary Care Doctor:\\n 1985-06-18\n",
       "2  sshe plans to move as of 7/8/71 In-Home Servic... 1971-07-08\n",
       "3              7 on 9/27/75 Audit C Score Current:\\n 1975-09-27\n",
       "4  2/6/96 sleep studyPain Treatment Pain Level (N... 1996-02-06"
      ]
     },
     "execution_count": 16,
     "metadata": {},
     "output_type": "execute_result"
    }
   ],
   "source": [
    "result_df = tm.extract_date()\n",
    "result_df.head()"
   ]
  },
  {
   "cell_type": "markdown",
   "metadata": {},
   "source": [
    "### Usecase 3: Extract social handles "
   ]
  },
  {
   "cell_type": "code",
   "execution_count": 17,
   "metadata": {},
   "outputs": [
    {
     "data": {
      "text/html": [
       "<div>\n",
       "<style scoped>\n",
       "    .dataframe tbody tr th:only-of-type {\n",
       "        vertical-align: middle;\n",
       "    }\n",
       "\n",
       "    .dataframe tbody tr th {\n",
       "        vertical-align: top;\n",
       "    }\n",
       "\n",
       "    .dataframe thead th {\n",
       "        text-align: right;\n",
       "    }\n",
       "</style>\n",
       "<table border=\"1\" class=\"dataframe\">\n",
       "  <thead>\n",
       "    <tr style=\"text-align: right;\">\n",
       "      <th></th>\n",
       "      <th>Author</th>\n",
       "      <th>Content</th>\n",
       "    </tr>\n",
       "  </thead>\n",
       "  <tbody>\n",
       "    <tr>\n",
       "      <th>0</th>\n",
       "      <td>John</td>\n",
       "      <td>hi @Mark I am here</td>\n",
       "    </tr>\n",
       "    <tr>\n",
       "      <th>1</th>\n",
       "      <td>Mark</td>\n",
       "      <td>@sample save 20% on http://www.mark.com</td>\n",
       "    </tr>\n",
       "    <tr>\n",
       "      <th>2</th>\n",
       "      <td>Jenny</td>\n",
       "      <td>@hello, visit https://www.jenny.com</td>\n",
       "    </tr>\n",
       "    <tr>\n",
       "      <th>3</th>\n",
       "      <td>Sammi</td>\n",
       "      <td>Remind me @john @doe and @sarah</td>\n",
       "    </tr>\n",
       "    <tr>\n",
       "      <th>4</th>\n",
       "      <td>Chris</td>\n",
       "      <td>call me at 123-456-789</td>\n",
       "    </tr>\n",
       "  </tbody>\n",
       "</table>\n",
       "</div>"
      ],
      "text/plain": [
       "  Author                                  Content\n",
       "0   John                       hi @Mark I am here\n",
       "1   Mark  @sample save 20% on http://www.mark.com\n",
       "2  Jenny      @hello, visit https://www.jenny.com\n",
       "3  Sammi          Remind me @john @doe and @sarah\n",
       "4  Chris                   call me at 123-456-789"
      ]
     },
     "execution_count": 17,
     "metadata": {},
     "output_type": "execute_result"
    }
   ],
   "source": [
    "# Create dummy data \n",
    "dummy = {'Author': ['John', 'Mark', 'Jenny', 'Sammi', 'Chris'],\n",
    "         'Content': ['hi @Mark I am here', '@sample save 20% on http://www.mark.com', '@hello, visit https://www.jenny.com', 'Remind me @john @doe and @sarah', 'call me at 123-456-789']}\n",
    "\n",
    "dummy_df = pd.DataFrame(dummy)\n",
    "dummy_df"
   ]
  },
  {
   "cell_type": "code",
   "execution_count": 18,
   "metadata": {},
   "outputs": [
    {
     "data": {
      "text/html": [
       "<div>\n",
       "<style scoped>\n",
       "    .dataframe tbody tr th:only-of-type {\n",
       "        vertical-align: middle;\n",
       "    }\n",
       "\n",
       "    .dataframe tbody tr th {\n",
       "        vertical-align: top;\n",
       "    }\n",
       "\n",
       "    .dataframe thead th {\n",
       "        text-align: right;\n",
       "    }\n",
       "</style>\n",
       "<table border=\"1\" class=\"dataframe\">\n",
       "  <thead>\n",
       "    <tr style=\"text-align: right;\">\n",
       "      <th></th>\n",
       "      <th>Author</th>\n",
       "      <th>Content</th>\n",
       "      <th>extracted_handle</th>\n",
       "    </tr>\n",
       "  </thead>\n",
       "  <tbody>\n",
       "    <tr>\n",
       "      <th>0</th>\n",
       "      <td>John</td>\n",
       "      <td>hi @Mark I am here</td>\n",
       "      <td>@Mark</td>\n",
       "    </tr>\n",
       "    <tr>\n",
       "      <th>1</th>\n",
       "      <td>Mark</td>\n",
       "      <td>@sample save 20% on http://www.mark.com</td>\n",
       "      <td>@sample</td>\n",
       "    </tr>\n",
       "    <tr>\n",
       "      <th>2</th>\n",
       "      <td>Jenny</td>\n",
       "      <td>@hello, visit https://www.jenny.com</td>\n",
       "      <td>@hello</td>\n",
       "    </tr>\n",
       "    <tr>\n",
       "      <th>3</th>\n",
       "      <td>Sammi</td>\n",
       "      <td>Remind me @john @doe and @sarah</td>\n",
       "      <td>@john</td>\n",
       "    </tr>\n",
       "    <tr>\n",
       "      <th>4</th>\n",
       "      <td>Sammi</td>\n",
       "      <td>Remind me @john @doe and @sarah</td>\n",
       "      <td>@doe</td>\n",
       "    </tr>\n",
       "    <tr>\n",
       "      <th>5</th>\n",
       "      <td>Sammi</td>\n",
       "      <td>Remind me @john @doe and @sarah</td>\n",
       "      <td>@sarah</td>\n",
       "    </tr>\n",
       "  </tbody>\n",
       "</table>\n",
       "</div>"
      ],
      "text/plain": [
       "  Author                                  Content extracted_handle\n",
       "0   John                       hi @Mark I am here            @Mark\n",
       "1   Mark  @sample save 20% on http://www.mark.com          @sample\n",
       "2  Jenny      @hello, visit https://www.jenny.com           @hello\n",
       "3  Sammi          Remind me @john @doe and @sarah            @john\n",
       "4  Sammi          Remind me @john @doe and @sarah             @doe\n",
       "5  Sammi          Remind me @john @doe and @sarah           @sarah"
      ]
     },
     "execution_count": 18,
     "metadata": {},
     "output_type": "execute_result"
    }
   ],
   "source": [
    "extract_handles = textMining(dummy_df)\n",
    "extract_handles.extract_social_handle('Content')"
   ]
  },
  {
   "cell_type": "markdown",
   "metadata": {},
   "source": [
    "### Usecase 4: Remove URLs "
   ]
  },
  {
   "cell_type": "code",
   "execution_count": 4,
   "metadata": {},
   "outputs": [
    {
     "name": "stdout",
     "output_type": "stream",
     "text": [
      "\n",
      "Check out these websites:\n",
      "- \n",
      "- \n",
      "- \n",
      "- \n",
      "- \n",
      "\n"
     ]
    }
   ],
   "source": [
    "# Sample text containing URLs\n",
    "sample_text = \"\"\"\n",
    "Check out these websites:\n",
    "- http://www.example.com\n",
    "- https://example.org\n",
    "- www.sample-site.com\n",
    "- sample-site.net\n",
    "- sample.site78.com\n",
    "\"\"\"\n",
    "\n",
    "# Call the class\n",
    "tm = textMining(sample_text)\n",
    "\n",
    "# Remove URLs from the sample text\n",
    "cleaned_text = tm.remove_urls(sample_text)\n",
    "\n",
    "# Print the cleaned text\n",
    "print(cleaned_text)"
   ]
  }
 ],
 "metadata": {
  "kernelspec": {
   "display_name": "Python 3",
   "language": "python",
   "name": "python3"
  },
  "language_info": {
   "codemirror_mode": {
    "name": "ipython",
    "version": 3
   },
   "file_extension": ".py",
   "mimetype": "text/x-python",
   "name": "python",
   "nbconvert_exporter": "python",
   "pygments_lexer": "ipython3",
   "version": "3.9.6"
  },
  "orig_nbformat": 4
 },
 "nbformat": 4,
 "nbformat_minor": 2
}
